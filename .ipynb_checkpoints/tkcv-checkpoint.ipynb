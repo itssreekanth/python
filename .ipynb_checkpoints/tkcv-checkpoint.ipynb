{
 "cells": [
  {
   "cell_type": "code",
   "execution_count": 2,
   "metadata": {},
   "outputs": [],
   "source": [
    "import tkinter\n",
    "import cv2\n",
    "import PIL.Image, PIL.ImageTk\n",
    "import time,os\n",
    "import numpy as np\n"
   ]
  },
  {
   "cell_type": "code",
   "execution_count": 3,
   "metadata": {},
   "outputs": [
    {
     "name": "stdout",
     "output_type": "stream",
     "text": [
      "Preparing data...\n",
      "Data prepared\n",
      "Total faces:  4\n"
     ]
    },
    {
     "data": {
      "text/plain": [
       "<__main__.App at 0x7fe22d38bb20>"
      ]
     },
     "execution_count": 3,
     "metadata": {},
     "output_type": "execute_result"
    }
   ],
   "source": [
    "class App:\n",
    "\tdef __init__(self, window, window_title,subjects,video_source=0):\n",
    "\t\tself.window = window\n",
    "\t\tself.window.title(window_title)\n",
    "\t\tself.video_source = video_source\n",
    "\t\tself.subjects = subjects\n",
    "\t\tself.vid = MyVideoCapture()\n",
    "\t\tself.canvas = tkinter.Canvas(window, width = self.vid.width, height = self.vid.height)\n",
    "\t\tself.canvas.pack()\n",
    "\t\tself.btn_snapshot=tkinter.Button(window, text=\"Snapshot\", width=50, command=self.snapshot)\n",
    "\t\tself.btn_snapshot.pack(anchor=tkinter.CENTER, expand=True)\n",
    "\t\tself.face_recognizer = cv2.face.LBPHFaceRecognizer_create()\n",
    "\t\tself.training()\n",
    "\t\tself.delay = 15\n",
    "\t\tself.update()\n",
    "\t\tself.window.mainloop()\n",
    "\tdef snapshot(self):\n",
    "\t\tret, frame = self.vid.get_frame()\n",
    "\t\tif ret:\n",
    "\t\t\tcv2.imwrite(\"frame-\" + time.strftime(\"%d-%m-%Y-%H-%M-%S\") + \".jpg\", cv2.cvtColor(frame, cv2.COLOR_RGB2BGR))\n",
    "\tdef detect_face(self,img):\n",
    "\t\tgray = cv2.cvtColor(img, cv2.COLOR_BGR2GRAY)\n",
    "\t\tface_cascade = cv2.CascadeClassifier('opencv-files/lbpcascade_frontalface.xml')\n",
    "\t\tfaces = face_cascade.detectMultiScale(gray, scaleFactor=1.2, minNeighbors=5);\n",
    "\t\tif (len(faces) == 0):\n",
    "\t\t\treturn None, np.zeros(4)\n",
    "\t\t(x, y, w, h) = faces[0]\n",
    "\t\treturn gray[y:y+w, x:x+h], faces[0]\n",
    "\tdef prepare_training_data(self,data_folder_path):\n",
    "\t\tdirs = os.listdir(data_folder_path)\n",
    "\t\tfaces = []\n",
    "\t\tlabels = []\n",
    "\t\tfor dir_name in dirs:\n",
    "\t\t\tif not dir_name.startswith(\"s\"):\n",
    "\t\t\t\tcontinue;\n",
    "\t\t\tlabel = int(dir_name.replace(\"s\", \"\"))\n",
    "\t\t\tsubject_dir_path = data_folder_path + \"/\" + dir_name\n",
    "\t\t\tsubject_images_names = os.listdir(subject_dir_path)\n",
    "\t\t\tfor image_name in subject_images_names:\n",
    "\t\t\t\tif image_name.startswith(\".\"):\n",
    "\t\t\t\t\tcontinue;\n",
    "\t\t\t\timage_path = subject_dir_path + \"/\" + image_name\n",
    "\t\t\t\timage = cv2.imread(image_path)\n",
    "\t\t\t\t#cv2.imshow(\"Training on image...\", cv2.resize(image, (400, 500)))\n",
    "\t\t\t\t#cv2.waitKey(100)\n",
    "\t\t\t\tface, rect = self.detect_face(image)\n",
    "\t\t\t\tif face is not None:\n",
    "\t\t\t\t\tfaces.append(face)\n",
    "\t\t\t\t\tlabels.append(label)\n",
    "\t\t#cv2.destroyAllWindows()\n",
    "\t\t#cv2.waitKey(1)\n",
    "\t\t#cv2.destroyAllWindows()\n",
    "\t\treturn faces, labels\n",
    "\tdef training(self):\n",
    "\t\tprint(\"Preparing data...\")\n",
    "\t\tfaces, labels = self.prepare_training_data(\"train\")\n",
    "\t\tprint(\"Data prepared\")\n",
    "\t\tprint(\"Total faces: \", len(faces))\n",
    "\t\t#print(\"Total labels: \", len(labels))\n",
    "\t\tself.face_recognizer.train(faces, np.array(labels))\n",
    "\tdef frame(self):\n",
    "\t\tret, frame = self.vid.get_frame()\n",
    "\t\tif ret:\n",
    "\t\t\timg = frame.copy()\n",
    "\t\t\tface, rect = self.detect_face(img)\n",
    "\t\t\tif rect.any() != 0:\n",
    "\t\t\t\tlabel,confidence = self.face_recognizer.predict(face)\n",
    "\t\t\t\tlabel_text = self.subjects[label]\n",
    "\t\t\t\t(x, y, w, h) = rect\n",
    "\t\t\t\tcv2.rectangle(frame, (x, y), (x+w, y+h), (0, 255, 0), 2)\n",
    "\t\t\t\tx,y = rect[0],rect[1]-5\n",
    "\t\t\t\tcv2.putText(frame, label_text, (x, y), cv2.FONT_HERSHEY_PLAIN, 1.5, (0, 255, 0), 2)\n",
    "\t\t\treturn (ret, frame)\n",
    "\t\telse:\n",
    "\t\t\treturn (ret, None)\n",
    "\n",
    "\tdef update(self):\n",
    "\t\tret, frame = self.frame()\n",
    "\t\tif ret:\n",
    "\t\t\tself.photo = PIL.ImageTk.PhotoImage(image = PIL.Image.fromarray(frame))\n",
    "\t\t\tself.canvas.create_image(0, 0, image = self.photo, anchor = tkinter.NW)\n",
    "\t\tself.window.after(self.delay, self.update)\n",
    "class MyVideoCapture:\n",
    "\tdef __init__(self):\n",
    "\t\tvideo_source = 0\n",
    "\t\tself.vid = cv2.VideoCapture(video_source)\n",
    "\t\tif not self.vid.isOpened():\n",
    "\t\t\traise ValueError(\"Unable to open video source\", video_source)\n",
    "\t\t\t# Get video source width and height\n",
    "\t\tself.width = self.vid.get(cv2.CAP_PROP_FRAME_WIDTH)\n",
    "\t\tself.height = self.vid.get(cv2.CAP_PROP_FRAME_HEIGHT)\n",
    "\n",
    "\tdef get_frame(self):\n",
    "\t\tif self.vid.isOpened():\n",
    "\t\t\tret, frame = self.vid.read()\n",
    "\t\t\tif ret:\n",
    "\t\t\t\treturn (ret, cv2.cvtColor(frame, cv2.COLOR_BGR2RGB))\n",
    "\t\t\telse:\n",
    "\t\t\t\treturn (ret, None)\n",
    "\t\telse:\n",
    "\t\t\treturn (ret, None)\n",
    "\tdef __del__(self):\n",
    "\t\tif self.vid.isOpened():\n",
    "\t\t\tself.vid.release()\n",
    "subjects = [\"\", \"Unknown\",\"Sreekanth\", \"Elvis Presley\"]\n",
    "App(tkinter.Tk(), \"Tkinter and OpenCV\",subjects)"
   ]
  },
  {
   "cell_type": "code",
   "execution_count": null,
   "metadata": {},
   "outputs": [],
   "source": []
  }
 ],
 "metadata": {
  "kernelspec": {
   "display_name": "Python 3",
   "language": "python",
   "name": "python3"
  },
  "language_info": {
   "codemirror_mode": {
    "name": "ipython",
    "version": 3
   },
   "file_extension": ".py",
   "mimetype": "text/x-python",
   "name": "python",
   "nbconvert_exporter": "python",
   "pygments_lexer": "ipython3",
   "version": "3.8.2"
  }
 },
 "nbformat": 4,
 "nbformat_minor": 4
}
